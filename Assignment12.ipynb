{
 "cells": [
  {
   "cell_type": "code",
   "execution_count": null,
   "id": "88d25508-6f0f-49d8-93ad-3b030a057645",
   "metadata": {},
   "outputs": [],
   "source": [
    "Q1. What are the different types of clustering algorithms, and how do they differ in terms of their approach\n",
    "and underlying assumptions?"
   ]
  },
  {
   "cell_type": "code",
   "execution_count": null,
   "id": "7cd3e51a-3dcb-41f1-9c7b-7fdf2742128a",
   "metadata": {},
   "outputs": [],
   "source": [
    "Ans =Centroid-based Clustering.\n",
    "Density-based Clustering.\n",
    "Distribution-based Clustering.\n",
    "Hierarchical Clustering."
   ]
  },
  {
   "cell_type": "code",
   "execution_count": null,
   "id": "159261f7-1706-4b3d-b4da-03bb213ba5f7",
   "metadata": {},
   "outputs": [],
   "source": []
  },
  {
   "cell_type": "code",
   "execution_count": null,
   "id": "73b013ab-118e-4c6f-bd26-77f574d7f51e",
   "metadata": {},
   "outputs": [],
   "source": [
    "Q2.What is K-means clustering, and how does it work?"
   ]
  },
  {
   "cell_type": "code",
   "execution_count": null,
   "id": "175975ca-648b-4340-bc66-6bb0cec2dbc5",
   "metadata": {},
   "outputs": [],
   "source": [
    "Ans = K-means is a centroid-based clustering algorithm, where we calculate the distance between each data point \n",
    "and a centroid to assign it to a cluster.\n",
    "The goal is to identify the K number of groups in the dataset."
   ]
  },
  {
   "cell_type": "code",
   "execution_count": null,
   "id": "31ef7424-0463-4f58-a541-d32b02346383",
   "metadata": {},
   "outputs": [],
   "source": []
  },
  {
   "cell_type": "code",
   "execution_count": null,
   "id": "e8d564f6-05fe-48f6-9480-dab4c428ba59",
   "metadata": {},
   "outputs": [],
   "source": [
    "Q3. What are some advantages and limitations of K-means clustering compared to other clustering\n",
    "techniques?"
   ]
  },
  {
   "cell_type": "code",
   "execution_count": null,
   "id": "832efcf2-460a-4b52-8b8a-c338020e9226",
   "metadata": {},
   "outputs": [],
   "source": [
    "Ans = Advantages of k-means\n",
    "Guarantees convergence. Can warm-start the positions of centroids.\n",
    "Easily adapts to new examples.\n",
    "Generalizes to clusters of different shapes and sizes, such as elliptical clusters."
   ]
  },
  {
   "cell_type": "code",
   "execution_count": null,
   "id": "1949d373-4f10-4af3-b22d-79090dbb45ea",
   "metadata": {},
   "outputs": [],
   "source": []
  },
  {
   "cell_type": "code",
   "execution_count": null,
   "id": "c10f2e9e-84f0-4819-b52d-e537a3f165c0",
   "metadata": {},
   "outputs": [],
   "source": [
    "Q4. How do you determine the optimal number of clusters in K-means clustering, and what are some\n",
    "common methods for doing so?"
   ]
  },
  {
   "cell_type": "code",
   "execution_count": null,
   "id": "d9f84229-8bee-43b1-b37b-c167aea81d1a",
   "metadata": {},
   "outputs": [],
   "source": [
    "Ans = The silhouette coefficient may provide a more objective means to determine the optimal number of clusters.\n",
    "This is done by simply calculating the silhouette coefficient\n",
    "over a range of k, & identifying the peak as optimum K."
   ]
  },
  {
   "cell_type": "code",
   "execution_count": null,
   "id": "f738c08c-f303-4bb8-94bf-dcadc5365e9f",
   "metadata": {},
   "outputs": [],
   "source": []
  },
  {
   "cell_type": "code",
   "execution_count": null,
   "id": "55f8050c-7f65-43d5-ac58-031722e1fbd6",
   "metadata": {},
   "outputs": [],
   "source": [
    "Q5. What are some applications of K-means clustering in real-world scenarios, and how has it been used\n",
    "to solve specific problems?"
   ]
  },
  {
   "cell_type": "code",
   "execution_count": null,
   "id": "0a56419a-8d3b-4978-bd2c-f52758534ce1",
   "metadata": {},
   "outputs": [],
   "source": [
    "Ans = Real-life examples include spam detection, sentiment analysis, scorecard prediction of exams, etc.\n",
    "2) Regression Models – Regression models are used for problems where the output variable is a real\n",
    "value such as a unique number, dollars, salary, weight or pressure."
   ]
  },
  {
   "cell_type": "code",
   "execution_count": null,
   "id": "96256555-1a3d-4776-8c22-142ff6c8bc95",
   "metadata": {},
   "outputs": [],
   "source": []
  },
  {
   "cell_type": "code",
   "execution_count": null,
   "id": "d7b4aa29-4973-4694-beaf-b00e0b0a5efc",
   "metadata": {},
   "outputs": [],
   "source": [
    "Q6. How do you interpret the output of a K-means clustering algorithm, and what insights can you derive\n",
    "from the resulting clusters?"
   ]
  },
  {
   "cell_type": "code",
   "execution_count": null,
   "id": "319fe5b6-df1c-482c-9372-335edab43659",
   "metadata": {},
   "outputs": [],
   "source": [
    "Ans = Interpreting the meaning of k-means clusters boils down to characterizing the clusters.\n",
    "A Parallel Coordinates Plot allows us to see how individual data points sit across all variables.\n",
    "By looking at how the values for each variable compare across clusters, we can get a sense of what each cluster represents."
   ]
  },
  {
   "cell_type": "code",
   "execution_count": null,
   "id": "1ca12ac9-2b8d-4f6b-98f5-497d5cae86dc",
   "metadata": {},
   "outputs": [],
   "source": []
  },
  {
   "cell_type": "code",
   "execution_count": null,
   "id": "50db70d0-5be8-4dda-8aab-4462098fc609",
   "metadata": {},
   "outputs": [],
   "source": [
    "Q7. What are some common challenges in implementing K-means clustering, and how can you address\n",
    "them?"
   ]
  },
  {
   "cell_type": "code",
   "execution_count": null,
   "id": "65b38df6-6360-4fec-8243-57144543f325",
   "metadata": {},
   "outputs": [],
   "source": [
    "Ans = k-means has trouble clustering data where clusters are of varying sizes and density.\n",
    "To cluster such data, you need to generalize k-means as described in the Advantages section.\n",
    "Clustering outliers. Centroids can be dragged by outliers,\n",
    "or outliers might get their own cluster instead of being ignored."
   ]
  },
  {
   "cell_type": "code",
   "execution_count": null,
   "id": "a934470d-6a1e-4dc6-92c6-bd75d1bcfb69",
   "metadata": {},
   "outputs": [],
   "source": []
  },
  {
   "cell_type": "code",
   "execution_count": null,
   "id": "4122fe12-633e-44c2-a99b-81f2128e5f15",
   "metadata": {},
   "outputs": [],
   "source": []
  },
  {
   "cell_type": "code",
   "execution_count": null,
   "id": "079c9e95-27f0-40cc-bad7-e3ee44ba1a4b",
   "metadata": {},
   "outputs": [],
   "source": []
  }
 ],
 "metadata": {
  "kernelspec": {
   "display_name": "Python 3 (ipykernel)",
   "language": "python",
   "name": "python3"
  },
  "language_info": {
   "codemirror_mode": {
    "name": "ipython",
    "version": 3
   },
   "file_extension": ".py",
   "mimetype": "text/x-python",
   "name": "python",
   "nbconvert_exporter": "python",
   "pygments_lexer": "ipython3",
   "version": "3.10.8"
  }
 },
 "nbformat": 4,
 "nbformat_minor": 5
}
